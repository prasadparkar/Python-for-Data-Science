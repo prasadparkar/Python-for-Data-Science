{
 "cells": [
  {
   "cell_type": "markdown",
   "id": "966cf3d4",
   "metadata": {},
   "source": [
    "# Boolean operators and variables"
   ]
  },
  {
   "cell_type": "code",
   "execution_count": 16,
   "id": "33bad775",
   "metadata": {},
   "outputs": [
    {
     "data": {
      "text/plain": [
       "True"
      ]
     },
     "execution_count": 16,
     "metadata": {},
     "output_type": "execute_result"
    }
   ],
   "source": [
    "#Boolean/ logical datatypes have two values; True or False\n",
    "\n",
    "1 < 2   #this will check if 1 is less than 2 and return boolean value"
   ]
  },
  {
   "cell_type": "code",
   "execution_count": 17,
   "id": "66f33b01",
   "metadata": {},
   "outputs": [
    {
     "data": {
      "text/plain": [
       "False"
      ]
     },
     "execution_count": 17,
     "metadata": {},
     "output_type": "execute_result"
    }
   ],
   "source": [
    "1 > 2   #this will check if 1 is greater than 2 and return boolean value"
   ]
  },
  {
   "cell_type": "code",
   "execution_count": 20,
   "id": "dd6414fc",
   "metadata": {},
   "outputs": [
    {
     "data": {
      "text/plain": [
       "False"
      ]
     },
     "execution_count": 20,
     "metadata": {},
     "output_type": "execute_result"
    }
   ],
   "source": [
    "5 == 4   #this will check if 5 is eaqual to 4 and return boolean value"
   ]
  },
  {
   "cell_type": "code",
   "execution_count": 22,
   "id": "3a5e0574",
   "metadata": {},
   "outputs": [
    {
     "data": {
      "text/plain": [
       "True"
      ]
     },
     "execution_count": 22,
     "metadata": {},
     "output_type": "execute_result"
    }
   ],
   "source": [
    "5 != 4   #this will check if 5 is not eaqual to 4 and return boolean value"
   ]
  },
  {
   "cell_type": "markdown",
   "id": "00c52773",
   "metadata": {},
   "source": [
    "---"
   ]
  },
  {
   "cell_type": "markdown",
   "id": "fb445c03",
   "metadata": {},
   "source": [
    "**logical operators**"
   ]
  },
  {
   "cell_type": "code",
   "execution_count": 31,
   "id": "03ad9a4b",
   "metadata": {},
   "outputs": [],
   "source": [
    "# ==   equal to\n",
    "# !=   not equal to\n",
    "# <    less than\n",
    "# >    greater than\n",
    "# <=   less than equal to \n",
    "# >=   greater than equal to\n",
    "# and  both condition1 and condition2 should be true, it will return value true, otherwise it will return false.'&' is a bitwise operator in Python \n",
    "# or   either of the two conditions from condition1 and condition2 must be true, it will return value true, otherwise it will return false\n",
    "# not  if the condition(s) are not true it will return value true, otherwise it will return false"
   ]
  },
  {
   "cell_type": "markdown",
   "id": "a19899af",
   "metadata": {},
   "source": [
    "---"
   ]
  },
  {
   "cell_type": "code",
   "execution_count": 40,
   "id": "1b49fd06",
   "metadata": {},
   "outputs": [],
   "source": [
    "result = 5 > 4  #assigning variable to the operation"
   ]
  },
  {
   "cell_type": "code",
   "execution_count": 41,
   "id": "8d9f8b18",
   "metadata": {},
   "outputs": [
    {
     "data": {
      "text/plain": [
       "True"
      ]
     },
     "execution_count": 41,
     "metadata": {},
     "output_type": "execute_result"
    }
   ],
   "source": [
    "result"
   ]
  },
  {
   "cell_type": "code",
   "execution_count": 26,
   "id": "44b1a165",
   "metadata": {},
   "outputs": [
    {
     "data": {
      "text/plain": [
       "bool"
      ]
     },
     "execution_count": 26,
     "metadata": {},
     "output_type": "execute_result"
    }
   ],
   "source": [
    "type(result)"
   ]
  },
  {
   "cell_type": "markdown",
   "id": "ff14ed8a",
   "metadata": {},
   "source": [
    "---"
   ]
  },
  {
   "cell_type": "code",
   "execution_count": 37,
   "id": "3ddeeba9",
   "metadata": {},
   "outputs": [],
   "source": [
    "result1 = not(1 < 2)"
   ]
  },
  {
   "cell_type": "code",
   "execution_count": 38,
   "id": "19cd11a0",
   "metadata": {},
   "outputs": [
    {
     "data": {
      "text/plain": [
       "False"
      ]
     },
     "execution_count": 38,
     "metadata": {},
     "output_type": "execute_result"
    }
   ],
   "source": [
    "result1"
   ]
  },
  {
   "cell_type": "markdown",
   "id": "fc1d4072",
   "metadata": {},
   "source": [
    "---"
   ]
  },
  {
   "cell_type": "code",
   "execution_count": 43,
   "id": "18eae25e",
   "metadata": {},
   "outputs": [
    {
     "data": {
      "text/plain": [
       "False"
      ]
     },
     "execution_count": 43,
     "metadata": {},
     "output_type": "execute_result"
    }
   ],
   "source": [
    "result and result1   #if both the operands are true, it will return True, otherwise it will return False"
   ]
  },
  {
   "cell_type": "code",
   "execution_count": 44,
   "id": "1e8e7134",
   "metadata": {},
   "outputs": [
    {
     "data": {
      "text/plain": [
       "True"
      ]
     },
     "execution_count": 44,
     "metadata": {},
     "output_type": "execute_result"
    }
   ],
   "source": [
    "result or result1"
   ]
  },
  {
   "cell_type": "markdown",
   "id": "5040a97a",
   "metadata": {},
   "source": [
    "---"
   ]
  },
  {
   "cell_type": "code",
   "execution_count": null,
   "id": "75047a1d",
   "metadata": {},
   "outputs": [],
   "source": []
  }
 ],
 "metadata": {
  "kernelspec": {
   "display_name": "Python 3",
   "language": "python",
   "name": "python3"
  },
  "language_info": {
   "codemirror_mode": {
    "name": "ipython",
    "version": 3
   },
   "file_extension": ".py",
   "mimetype": "text/x-python",
   "name": "python",
   "nbconvert_exporter": "python",
   "pygments_lexer": "ipython3",
   "version": "3.8.8"
  }
 },
 "nbformat": 4,
 "nbformat_minor": 5
}
