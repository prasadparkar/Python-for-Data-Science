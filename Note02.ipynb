{
 "cells": [
  {
   "cell_type": "markdown",
   "id": "0893ed11",
   "metadata": {},
   "source": [
    "# working with variables"
   ]
  },
  {
   "cell_type": "code",
   "execution_count": 1,
   "id": "6f6ee456",
   "metadata": {},
   "outputs": [],
   "source": [
    "a = 5"
   ]
  },
  {
   "cell_type": "code",
   "execution_count": 2,
   "id": "533ac61f",
   "metadata": {},
   "outputs": [],
   "source": [
    "b = 10"
   ]
  },
  {
   "cell_type": "code",
   "execution_count": 3,
   "id": "d2753c46",
   "metadata": {},
   "outputs": [],
   "source": [
    "#Arithmetics"
   ]
  },
  {
   "cell_type": "code",
   "execution_count": 4,
   "id": "e146d7dc",
   "metadata": {},
   "outputs": [],
   "source": [
    "c = a + b"
   ]
  },
  {
   "cell_type": "code",
   "execution_count": 11,
   "id": "6db2dbfc",
   "metadata": {},
   "outputs": [
    {
     "name": "stdout",
     "output_type": "stream",
     "text": [
      "Sum of a & b is 15\n"
     ]
    }
   ],
   "source": [
    "print (\"Sum of a & b is\", c)"
   ]
  },
  {
   "cell_type": "code",
   "execution_count": 12,
   "id": "5ec9fe37",
   "metadata": {},
   "outputs": [],
   "source": [
    "d = a * b"
   ]
  },
  {
   "cell_type": "code",
   "execution_count": 13,
   "id": "ea453ece",
   "metadata": {},
   "outputs": [
    {
     "name": "stdout",
     "output_type": "stream",
     "text": [
      "Product of a & b is 50\n"
     ]
    }
   ],
   "source": [
    "print (\"Product of a & b is\", d)"
   ]
  },
  {
   "cell_type": "markdown",
   "id": "b0793e16",
   "metadata": {},
   "source": [
    "---"
   ]
  },
  {
   "cell_type": "code",
   "execution_count": 14,
   "id": "0e085336",
   "metadata": {},
   "outputs": [],
   "source": [
    "import math"
   ]
  },
  {
   "cell_type": "code",
   "execution_count": 15,
   "id": "55eed993",
   "metadata": {},
   "outputs": [
    {
     "data": {
      "text/plain": [
       "2.23606797749979"
      ]
     },
     "execution_count": 15,
     "metadata": {},
     "output_type": "execute_result"
    }
   ],
   "source": [
    "math.sqrt(a)  #output will be square root of 5 as a=5 "
   ]
  },
  {
   "cell_type": "code",
   "execution_count": 16,
   "id": "faa53e58",
   "metadata": {},
   "outputs": [
    {
     "data": {
      "text/plain": [
       "2"
      ]
     },
     "execution_count": 16,
     "metadata": {},
     "output_type": "execute_result"
    }
   ],
   "source": [
    "round(math.sqrt(a))   #round function will round off the float value in output"
   ]
  },
  {
   "cell_type": "markdown",
   "id": "b81afeae",
   "metadata": {},
   "source": [
    "---"
   ]
  },
  {
   "cell_type": "code",
   "execution_count": 19,
   "id": "de68f206",
   "metadata": {},
   "outputs": [],
   "source": [
    "#concatenate two string variables\n",
    "\n",
    "greeting = \"Hello\"\n",
    "name = \"Sam\""
   ]
  },
  {
   "cell_type": "code",
   "execution_count": 32,
   "id": "820446fd",
   "metadata": {},
   "outputs": [],
   "source": [
    "message = greeting +\" \"+ name   #to add space between two string while concatinating we make use of \" \""
   ]
  },
  {
   "cell_type": "code",
   "execution_count": 33,
   "id": "c0ca7ff7",
   "metadata": {},
   "outputs": [
    {
     "name": "stdout",
     "output_type": "stream",
     "text": [
      "Hello Sam\n"
     ]
    }
   ],
   "source": [
    "print (message)"
   ]
  },
  {
   "cell_type": "code",
   "execution_count": null,
   "id": "be3ab687",
   "metadata": {},
   "outputs": [],
   "source": []
  }
 ],
 "metadata": {
  "kernelspec": {
   "display_name": "Python 3",
   "language": "python",
   "name": "python3"
  },
  "language_info": {
   "codemirror_mode": {
    "name": "ipython",
    "version": 3
   },
   "file_extension": ".py",
   "mimetype": "text/x-python",
   "name": "python",
   "nbconvert_exporter": "python",
   "pygments_lexer": "ipython3",
   "version": "3.8.8"
  }
 },
 "nbformat": 4,
 "nbformat_minor": 5
}
